{
 "cells": [
  {
   "cell_type": "markdown",
   "metadata": {},
   "source": [
    "## Finance Bot Using Langchain , Openai, Streamlit\n",
    "\n"
   ]
  },
  {
   "cell_type": "code",
   "execution_count": 33,
   "metadata": {},
   "outputs": [],
   "source": [
    "from langchain.document_loaders import UnstructuredURLLoader\n",
    "from langchain.text_splitter import RecursiveCharacterTextSplitter\n",
    "from sentence_transformers import SentenceTransformer,util\n",
    "import numpy as np\n",
    "import faiss"
   ]
  },
  {
   "cell_type": "code",
   "execution_count": 34,
   "metadata": {},
   "outputs": [],
   "source": [
    "loader = UnstructuredURLLoader(\n",
    "    urls=[\n",
    "        'https://www.moneycontrol.com/news/business/markets/oil-settles-lower-ahead-of-opec-decision-11817711.html',\n",
    "        'https://www.moneycontrol.com/news/india/latest-daily-news-live-india-world-cyclone-michaung-chennai-floods-israel-hamas-war-breaking-news-and-updates-liveblog-11860771.html'\n",
    "    ]\n",
    "    # urls=[\n",
    "    #     'https://www.moneycontrol.com/news/business/markets/oil-settles-lower-ahead-of-opec-decision-11817711.html',\n",
    "    #     'https://www.moneycontrol.com/news/business/markets/gold-hits-6-month-high-on-fed-pause-expectation-softer-dollar-11817261.html'\n",
    "    # ]\n",
    ")\n",
    "data=loader.load()"
   ]
  },
  {
   "cell_type": "code",
   "execution_count": 35,
   "metadata": {},
   "outputs": [
    {
     "data": {
      "text/plain": [
       "2"
      ]
     },
     "execution_count": 35,
     "metadata": {},
     "output_type": "execute_result"
    }
   ],
   "source": [
    "len(data)"
   ]
  },
  {
   "cell_type": "code",
   "execution_count": 36,
   "metadata": {},
   "outputs": [],
   "source": [
    "text_splitter = RecursiveCharacterTextSplitter(separators='\\n',chunk_size=600,chunk_overlap=100)\n",
    "docs=text_splitter.split_documents(data)"
   ]
  },
  {
   "cell_type": "code",
   "execution_count": 37,
   "metadata": {},
   "outputs": [
    {
     "data": {
      "text/plain": [
       "'English\\n\\nHindi\\n\\nGujarati\\n\\nSpecials\\n\\nMoneycontrol Trending Stock\\n\\nInfosys\\xa0INE009A01021, INFY, 500209\\n\\nState Bank of India\\xa0INE062A01020, SBIN, 500112\\n\\nYes Bank\\xa0INE528G01027, YESBANK, 532648\\n\\nBank Nifty\\n\\nNifty 500\\n\\nQuotes\\n\\nMutual Funds\\n\\nCommodities\\n\\nFutures & Options\\n\\nCurrency\\n\\nNews\\n\\nCryptocurrency\\n\\nForum\\n\\nNotices\\n\\nVideos\\n\\nGlossary\\n\\nAll'"
      ]
     },
     "execution_count": 37,
     "metadata": {},
     "output_type": "execute_result"
    }
   ],
   "source": [
    "docs[0].page_content"
   ]
  },
  {
   "cell_type": "code",
   "execution_count": 38,
   "metadata": {},
   "outputs": [
    {
     "data": {
      "text/plain": [
       "69"
      ]
     },
     "execution_count": 38,
     "metadata": {},
     "output_type": "execute_result"
    }
   ],
   "source": [
    "len(docs)"
   ]
  },
  {
   "cell_type": "code",
   "execution_count": 39,
   "metadata": {},
   "outputs": [
    {
     "data": {
      "text/plain": [
       "Document(page_content='English\\n\\nHindi\\n\\nGujarati\\n\\nSpecials\\n\\nMoneycontrol Trending Stock\\n\\nInfosys\\xa0INE009A01021, INFY, 500209\\n\\nState Bank of India\\xa0INE062A01020, SBIN, 500112\\n\\nYes Bank\\xa0INE528G01027, YESBANK, 532648\\n\\nBank Nifty\\n\\nNifty 500\\n\\nQuotes\\n\\nMutual Funds\\n\\nCommodities\\n\\nFutures & Options\\n\\nCurrency\\n\\nNews\\n\\nCryptocurrency\\n\\nForum\\n\\nNotices\\n\\nVideos\\n\\nGlossary\\n\\nAll', metadata={'source': 'https://www.moneycontrol.com/news/business/markets/oil-settles-lower-ahead-of-opec-decision-11817711.html'})"
      ]
     },
     "execution_count": 39,
     "metadata": {},
     "output_type": "execute_result"
    }
   ],
   "source": [
    "docs[0]"
   ]
  },
  {
   "cell_type": "code",
   "execution_count": 40,
   "metadata": {},
   "outputs": [],
   "source": [
    "model = SentenceTransformer('all-MiniLM-L6-v2')"
   ]
  },
  {
   "cell_type": "code",
   "execution_count": 41,
   "metadata": {},
   "outputs": [],
   "source": [
    "docc=[]\n",
    "metadata=[]\n",
    "for i in range(len(docs)):\n",
    "    docc.append(docs[i].page_content)\n",
    "    metadata.append(docs[i].metadata)"
   ]
  },
  {
   "cell_type": "code",
   "execution_count": 42,
   "metadata": {},
   "outputs": [
    {
     "data": {
      "text/plain": [
       "['English\\n\\nHindi\\n\\nGujarati\\n\\nSpecials\\n\\nMoneycontrol Trending Stock\\n\\nInfosys\\xa0INE009A01021, INFY, 500209\\n\\nState Bank of India\\xa0INE062A01020, SBIN, 500112\\n\\nYes Bank\\xa0INE528G01027, YESBANK, 532648\\n\\nBank Nifty\\n\\nNifty 500\\n\\nQuotes\\n\\nMutual Funds\\n\\nCommodities\\n\\nFutures & Options\\n\\nCurrency\\n\\nNews\\n\\nCryptocurrency\\n\\nForum\\n\\nNotices\\n\\nVideos\\n\\nGlossary\\n\\nAll',\n",
       " 'Futures & Options\\n\\nCurrency\\n\\nNews\\n\\nCryptocurrency\\n\\nForum\\n\\nNotices\\n\\nVideos\\n\\nGlossary\\n\\nAll\\n\\nHello, LoginHello, LoginLog-inor Sign-UpMy AccountMy Profile My PortfolioMy WatchlistMy Credit Score₹100 CashbackMy FeedMy MessagesMy AlertsMy Profile My PROMy PortfolioMy WatchlistMy Credit Score₹100 CashbackMy FeedMy MessagesMy AlertsLogoutChat with UsDownload AppFollow us on:\\n\\nPremium\\n\\nMy Feed',\n",
       " '\\nMarketsHOMEINDIAN INDICESSTOCK ACTIONAll StatsTop GainersTop LosersOnly BuyersOnly Sellers52 Week High52 Week LowPrice ShockersVolume ShockersMost Active StocksGLOBAL MARKETSUS MARKETSBIG SHARK PORTFOLIOSSTOCK SCANNERECONOMIC CALENDARMARKET ACTIONDashboardF&OFII & DII ActivityCorporate ActionEARNINGSCOMMODITYPRE MARKETRESEARCHAdviceBroker ResearchTechnicalsCURRENCYBONDSWEBINARINTERVIEW SERIESIPOOTHERSCryptocurrencyToolsNewsHOMEPAGEBUSINESSHomeEconomyCompaniesMutual FundsPersonal FinanceIPOStartupsReal EstateSMEGEOGRAPHYIndiaWorldMARKETSHomeStocksTechnical AnalysisEquity ResearchCommodityCurrencyGold RateSilver RateSPECIALTrendsLatest NewsOpinionTECHNOLOGYPersonal TechAutoFintechMEDIAPodcastPhotosInfographicsVideosOTHERSMC LearnPoliticsCricketEntertainmentTravelLifestyleHealth and FitnessEducationScienceBooksMC BuzzMC FeaturesTech/StartupsPortfolioWatchlistCommoditiesMutual FundsEXPLOREHomeFind FundTop Ranked FundsPerformance TrackerSIP Performance TrackerETF PerformanceNFOTop Performing CategoriesLearnTOOLSReturns CalculatorLumpsum SIP BalancerDelay Cost CalculatorSIP ReturnMF FORUMTRACKYour MF InvestmentMF PricesMC 30Personal FinanceEXPLOREHomeInvestingInsuranceBankingFinancial PlanningPropertyToolsVideoAsk ExpertExplainerIncome Tax Filing GuideNPSFIXED DEPOSITFixed Deposit Interest CalculatorCorporate DepositsTAXIncome tax Filing GuideIncome Tax CalculatorEmergency Fund CalculatorLOANS & CREDIT CARDSHomeCar Loan CalculatorHome Loan CalculatorEducation Loan CalculatorCredit Card Debit Payoff CalculatorTOOLSProvident Fund CalculatorAssets Allocation PlanningDebt Reduction PlannerDebt Evaluation CalculatorCurrent Expense CalculatorCredit Score₹100 CashbackREAL ESTATE : TRENDS & ANALYTICSMC 30MONEYCONTROL - SECURENOW HEALTH INSURANCE RATINGSGOLD PRICE TODAYUpcoming Chat | Previous TranscriptsAll Schedule | Previous TranscriptForumEXPLORE FORUMHomepageMembership RulesForum TopicsAsk the ExpertTop BoardersUSER PROFILEFORUM TOPICSLatest ThreadsStocksIndexGoldPersonal FinanceJust PostedMF FORUMPOLLSLatest PollsHistorical PollsMarket SentimentsSUPPORTFAQsCode of ConductFeedbackWrite to usVideosVIDEOSHomepageVideos on DemandMarkets with Santo & CJMorning TradeCommodities chat with Manisha GuptaLet`s Talk JobsThe TenantDrive ReportBajar GupshupBits To BillionsPODCASTHomepagePodcast on DemandThe Week on Dalal StreetMarket MinutesMC Special PodcastSimply SavePolicy TalksLIVE TVHindiGujaratiInvest Now.investNW .sepInvsli a.pdg_btm{ padding-bottom: 46px; }',\n",
       " '.header_desktop.header1024 .investNW .sepInvsli a.pdg_btm{padding-bottom: 0px;}\\n\\t\\t@media screen and (max-width:1279px) { \\n\\t\\t\\t.investNW .sepInvsli a.pdg_btm{ padding-bottom: 0px; }',\n",
       " \"\\n\\t\\t}Invest in bonds onlinePowered By Invest in high-rated bonds from as low as Rs. 10,000Find & Invest in bonds issued by top corporates, PSU Banks, NBFCs, and much more. Invest as low as 10,000 and earn better returns than FDInvest NowExpert Trading GuidancePowered By Trading Advisories, Courses & Webinars by Top Verified Experts.Unlock Your Trading Potential: Trade like Experts with SEBI registered creators, Learn from Courses & Webinars by India's Finest Finance Experts.Invest NowSubscriptionAMBAREESH BALIGAFundamental, Stock Ideas, Multibaggers & InsightsSubscribeCK NARAYANStock & Index F&O Trading Calls & Market AnalysisSubscribeSUDARSHAN SUKHANITechnical Call, Trading Calls & InsightsSubscribeT GNANASEKARCommodity Trading Calls & Market AnalysisSubscribeMECKLAI FINANCIALSCurrency Derivatives Trading Calls & InsightsSubscribeSHUBHAM AGARWALOptions Trading Advice and Market AnalysisSubscribeMARKET SMITH INDIAModel portfolios, Investment Ideas, Guru Screens and Much MoreSubscribeTraderSmithProprietary system driven Rule Based Trading callsSubscribeCurated markets data, exclusive trading recommendations, Independent equity analysis & actionable investment ideasSubscribeCurated markets data, exclusive trading recommendations, Independent equity analysis & actionable investment ideasExploreSTOCK REPORTS BY THOMSON REUTERSDetails stock report and investment recommendationSubscribePOWER YOUR TRADETechnical and Commodity CallsSubscribeINVESTMENT WATCHSet price, volume and news alertsSubscribeGo Ad-Free BusinessMarketsStocksEconomyCompaniesTrendsIPOOpinionEV Special\",\n",
       " '>->MC_ENG_DESKTOP/MC_ENG_NEWS/MC_ENG_MARKETS_AS/MC_ENG_ROS_NWS_MKTS_AS_ATF_728\\n\\nGo PRO @₹99\\n\\nPRO\\n\\nAdvertisement\\n\\nRemove Ad\\n\\n\\n\\nMarketsHOMEINDIAN INDICESSTOCK ACTIONAll StatsTop GainersTop LosersOnly BuyersOnly Sellers52 Week High52 Week LowPrice ShockersVolume ShockersMost Active StocksGLOBAL MARKETSUS MARKETSBIG SHARK PORTFOLIOSSTOCK SCANNERECONOMIC CALENDARMARKET ACTIONDashboardF&OFII & DII ActivityCorporate ActionEARNINGSCOMMODITYPRE MARKETRESEARCHAdviceBroker ResearchTechnicalsCURRENCYBONDSWEBINARINTERVIEW SERIESIPOOTHERSCryptocurrencyTools',\n",
       " 'NewsHOMEPAGEBUSINESSHomeEconomyCompaniesMutual FundsPersonal FinanceIPOStartupsReal EstateSMEGEOGRAPHYIndiaWorldMARKETSHomeStocksTechnical AnalysisEquity ResearchCommodityCurrencyGold RateSilver RateSPECIALTrendsLatest NewsOpinionTECHNOLOGYPersonal TechAutoFintechMEDIAPodcastPhotosInfographicsVideosOTHERSMC LearnPoliticsCricketEntertainmentTravelLifestyleHealth and FitnessEducationScienceBooksMC BuzzMC Features\\n\\nTech/Startups\\n\\nPortfolio\\n\\nWatchlist\\n\\nCommodities',\n",
       " 'Tech/Startups\\n\\nPortfolio\\n\\nWatchlist\\n\\nCommodities\\n\\nMutual FundsEXPLOREHomeFind FundTop Ranked FundsPerformance TrackerSIP Performance TrackerETF PerformanceNFOTop Performing CategoriesLearnTOOLSReturns CalculatorLumpsum SIP BalancerDelay Cost CalculatorSIP ReturnMF FORUMTRACKYour MF InvestmentMF PricesMC 30',\n",
       " '\\nPersonal FinanceEXPLOREHomeInvestingInsuranceBankingFinancial PlanningPropertyToolsVideoAsk ExpertExplainerIncome Tax Filing GuideNPSFIXED DEPOSITFixed Deposit Interest CalculatorCorporate DepositsTAXIncome tax Filing GuideIncome Tax CalculatorEmergency Fund CalculatorLOANS & CREDIT CARDSHomeCar Loan CalculatorHome Loan CalculatorEducation Loan CalculatorCredit Card Debit Payoff CalculatorTOOLSProvident Fund CalculatorAssets Allocation PlanningDebt Reduction PlannerDebt Evaluation CalculatorCurrent Expense CalculatorCredit Score₹100 CashbackREAL ESTATE : TRENDS & ANALYTICSMC 30MONEYCONTROL - SECURENOW HEALTH INSURANCE RATINGSGOLD PRICE TODAYUpcoming Chat | Previous TranscriptsAll Schedule | Previous Transcript',\n",
       " 'ForumEXPLORE FORUMHomepageMembership RulesForum TopicsAsk the ExpertTop BoardersUSER PROFILEFORUM TOPICSLatest ThreadsStocksIndexGoldPersonal FinanceJust PostedMF FORUMPOLLSLatest PollsHistorical PollsMarket SentimentsSUPPORTFAQsCode of ConductFeedbackWrite to us\\n\\nVideosVIDEOSHomepageVideos on DemandMarkets with Santo & CJMorning TradeCommodities chat with Manisha GuptaLet`s Talk JobsThe TenantDrive ReportBajar GupshupBits To BillionsPODCASTHomepagePodcast on DemandThe Week on Dalal StreetMarket MinutesMC Special PodcastSimply SavePolicy TalksLIVE TVHindiGujarati',\n",
       " 'Invest Now.investNW .sepInvsli a.pdg_btm{ padding-bottom: 46px; }\\n\\t\\t.header_desktop.header1024 .investNW .sepInvsli a.pdg_btm{padding-bottom: 0px;}\\n\\t\\t@media screen and (max-width:1279px) { \\n\\t\\t\\t.investNW .sepInvsli a.pdg_btm{ padding-bottom: 0px; }',\n",
       " \".investNW .sepInvsli a.pdg_btm{ padding-bottom: 0px; } \\n\\t\\t}Invest in bonds onlinePowered By Invest in high-rated bonds from as low as Rs. 10,000Find & Invest in bonds issued by top corporates, PSU Banks, NBFCs, and much more. Invest as low as 10,000 and earn better returns than FDInvest NowExpert Trading GuidancePowered By Trading Advisories, Courses & Webinars by Top Verified Experts.Unlock Your Trading Potential: Trade like Experts with SEBI registered creators, Learn from Courses & Webinars by India's Finest Finance Experts.Invest Now\",\n",
       " '\\nSubscriptionAMBAREESH BALIGAFundamental, Stock Ideas, Multibaggers & InsightsSubscribeCK NARAYANStock & Index F&O Trading Calls & Market AnalysisSubscribeSUDARSHAN SUKHANITechnical Call, Trading Calls & InsightsSubscribeT GNANASEKARCommodity Trading Calls & Market AnalysisSubscribeMECKLAI FINANCIALSCurrency Derivatives Trading Calls & InsightsSubscribeSHUBHAM AGARWALOptions Trading Advice and Market AnalysisSubscribeMARKET SMITH INDIAModel portfolios, Investment Ideas, Guru Screens and Much MoreSubscribeTraderSmithProprietary system driven Rule Based Trading callsSubscribeCurated markets data, exclusive trading recommendations, Independent equity analysis & actionable investment ideasSubscribeCurated markets data, exclusive trading recommendations, Independent equity analysis & actionable investment ideasExploreSTOCK REPORTS BY THOMSON REUTERSDetails stock report and investment recommendationSubscribePOWER YOUR TRADETechnical and Commodity CallsSubscribeINVESTMENT WATCHSet price, volume and news alertsSubscribe',\n",
       " 'Go Ad-Free\\n\\nBusiness\\n\\nMarkets\\n\\nStocks\\n\\nEconomy\\n\\nCompanies\\n\\nTrends\\n\\nIPO\\n\\nOpinion\\n\\nEV Special\\n\\nCheck your Credit Score for Free and Get Guaranteed  ₹100 Cash Reward!Check your Credit Score for Free and Get Guaranteed  ₹ 100 Cash Reward!\\n\\nHome\\n\\nNews\\n\\nBusiness\\n\\nMarkets\\n\\nOil settles lower ahead of OPEC+ decision\\n\\n(This Nov. 24 story has been corrected to add weekly loss data in paragraph 2 and show that there was no weekly oil price gain in the headline and paragraph ..\\n\\nReuters\\n\\nNovember 27, 2023 / 09:19 PM IST\\n\\n\\n\\n\\n\\n\\n\\n\\n\\n\\n\\n\\n\\nOil settles lower ahead of OPEC+ decision',\n",
       " \"Reuters\\n\\nNovember 27, 2023 / 09:19 PM IST\\n\\n\\n\\n\\n\\n\\n\\n\\n\\n\\n\\n\\n\\nOil settles lower ahead of OPEC+ decision\\n\\nOil fell on November 24 as the release of some hostages in Gaza reduced the geopolitical risk premium ahead of next week's OPEC+ meeting to decide on production cuts in 2024.\",\n",
       " \"Brent crude futures settled down 84 cents, or 1%, at $80.58 a barrel, while US West Texas Intermediate crude fell $1.56, or 2%, from November 22's close to $75.54. There was no settlement for WTI on November 23 owing to the US Thanksgiving holiday. Brent settled 3 cents lower on the week while WTI fell 35 cents from last November 24's settlement.\\n\\nStory continues below Advertisement\\n\\nRemove Ad\",\n",
       " 'Story continues below Advertisement\\n\\nRemove Ad\\n\\nThe first group of hostages freed from captivity in Gaza returned to Israel on November 24, on the first day of a planned four-day truce during which further exchanges of hostages for Palestinian detainees are due to take place.\\n\\n\"The fact that they followed through was significant for reducing the risk premium,\" said John Kilduff, partner at Again Capital LLC in New York.',\n",
       " 'Both contracts had their first weekly gain in five weeks as OPEC+ prepares for a meeting that will have output cuts high on the agenda after recent oil price declines on demand concerns and burgeoning supply, particularly from non-OPEC producers.\\n\\nRelated stories\\n\\nCommodity Wrap: Oil prices hold ground amid Middle East tensions, hope for US rate cut; gold surges\\n\\nOil prices set for weekly gain as Red Sea tension persists\\n\\nOil prices fall on demand concerns after US stock build',\n",
       " 'Oil prices fall on demand concerns after US stock build\\n\\nThe OPEC+ group, comprising of the Organization of the Petroleum Exporting Countries and allies including Russia, surprised the market on Wednesday by delaying its Nov. 26 to Nov. 30 after producers struggled to reach a consensus on output levels.\\n\\nOPEC+ has moved closer to a compromise with African oil producers on 2024 output levels, three OPEC+ sources have told Reuters.\\n\\n\"The most likely outcome now appears to be an extension of existing cuts,\" said IG analyst Tony Sycamore.\\n\\nStory continues below Advertisement\\n\\nRemove Ad',\n",
       " 'Story continues below Advertisement\\n\\nRemove Ad\\n\\nThe surprise delay had initially brought Brent futures down as much as 4% and WTI by as much as 5% in intraday trading on November 22. Trading remained subdued during November 23\\'s US holiday.\\n\\n\"While I wouldn\\'t be entirely surprised to see leaks or comments over the weekend that still have an impact on the oil price on the open next week, the actual meeting now occurring Thursday could put traders\\' minds somewhat at ease,\" said Craig Erlam, senior market analyst at OANDA.',\n",
       " 'A bright spot came in the form of the near-term economic outlook in China. Recent Chinese data and fresh aid to the indebted property sector can be \"positive for the oil market\\'s near-term trend\", said CMC Markets analyst Tina Teng.\\n\\nYet those gains could be capped by higher U.S. crude stockpiles and poor refining margins, leading to weaker demand from U.S. refineries, analysts said.\\n\\n\"Fundamentals developments have been bearish with rising U.S. oil inventories,\" ANZ analysts said in a note.',\n",
       " \"Still, China's longer-term outlook remains lukewarm. Analysts say oil demand growth could weaken to about 4% in the first half of 2024 as the property sector crunch weighs on diesel use.\\n\\nNon-OPEC production growth is set to remain strong, with Brazilian state energy company Petrobras planning to invest $102 billion over the next five years to boost output to 3.2 million barrels of oil equivalent per day (boepd) by 2028, up from 2.8 million boepd in 2024.\\n\\nReuters\\n\\nTags:\\n\\n#Brent crude futures\\n\\n#oil\\n\\n#OPEC (Organisation of the Petroleum Exporting Countries)\",\n",
       " 'Tags:\\n\\n#Brent crude futures\\n\\n#oil\\n\\n#OPEC (Organisation of the Petroleum Exporting Countries)\\n\\nfirst published: Nov 27, 2023 09:19 pm\\n\\nCheck Free Credit Score on Moneycontrol: Easily track your loans, get insights, and enjoy a ₹100 cashback on your first check!\\n\\nAdvertisement\\n\\nRemove Ad\\n\\nTrending news\\n\\nSalman Khan turns 58: A look at his net worth, how much he charges for films,\\xa0ads\\n\\nHDFC agents threatened me, my family after relative missed EMI, says Mumbai man. Bank responds\\n\\nX user asked Anand Mahindra for Rs 1 lakh to buy Mahindra shares. Check his response',\n",
       " \"X user asked Anand Mahindra for Rs 1 lakh to buy Mahindra shares. Check his response\\n\\nOnly in Bengaluru: Woman finds out her Rapido driver is corporate manager at 'one of the big companies'\\n\\nMan with confirmed ticket forced to stand for entire train journey: ‘couldn’t even reach seat’\\n\\nForum\\n\\nFacebook\\n\\nTwitter\\n\\nInstagram\\n\\nLinkedin\\n\\nRSS\\n\\nPortfolio\\n\\nMarkets\\n\\nWatchlist\\n\\nLive TV Show\\n\\nCurrencies\\n\\nCredit Score₹100 Cashback\\n\\nCommodities\\n\\nFixed Income\\n\\nPersonal Finance\\n\\nMutual Fund\\n\\nPre-Market\\n\\nIPO\\n\\nGlobal Market\\n\\nBudget 2024\\n\\nGold Rate\\n\\nBSE Sensex\\n\\nForum\\n\\nMC 30\\n\\nNews\\n\\nBusiness\\n\\nMarkets\\n\\nStocks\",\n",
       " 'Global Market\\n\\nBudget 2024\\n\\nGold Rate\\n\\nBSE Sensex\\n\\nForum\\n\\nMC 30\\n\\nNews\\n\\nBusiness\\n\\nMarkets\\n\\nStocks\\n\\nEconomy\\n\\nMutual Funds\\n\\nPersonal Finance\\n\\nIPO News\\n\\nStartups\\n\\nElection 2023\\n\\nElections 2023 in Hindi\\n\\nStocks:\\n\\nA |\\n\\nB |\\n\\nC |\\n\\nD |\\n\\nE |\\n\\nF |\\n\\nG |\\n\\nH |\\n\\nI |\\n\\nJ |\\n\\nK |\\n\\nL |\\n\\nM |\\n\\nN |\\n\\nO |\\n\\nP |\\n\\nQ |\\n\\nR |\\n\\nS |\\n\\nT |\\n\\nU |\\n\\nV |\\n\\nW |\\n\\nX |\\n\\nY |\\n\\nZ |\\n\\nOthers\\n\\nMutual Funds:\\n\\nA \\r\\n             |\\n\\nB \\r\\n             |\\n\\nC \\r\\n             |\\n\\nD \\r\\n             |\\n\\nE \\r\\n             |\\n\\nF \\r\\n             |\\n\\nG \\r\\n             |\\n\\nH \\r\\n             |\\n\\nI \\r\\n             |\\n\\nJ \\r\\n             |\\n\\nK \\r\\n             |\\n\\nL',\n",
       " '|\\n\\nH \\r\\n             |\\n\\nI \\r\\n             |\\n\\nJ \\r\\n             |\\n\\nK \\r\\n             |\\n\\nL \\r\\n             |\\n\\nM \\r\\n             |\\n\\nN \\r\\n             |\\n\\nO \\r\\n             |\\n\\nP \\r\\n             |\\n\\nQ \\r\\n             |\\n\\nR \\r\\n             |\\n\\nS \\r\\n             |\\n\\nT \\r\\n             |\\n\\nU \\r\\n             |\\n\\nV \\r\\n             |\\n\\nW \\r\\n             |\\n\\nX \\r\\n             |\\n\\nY \\r\\n             |\\n\\nVisit the App Store to see all our apps:\\n\\nDownload from Google Play\\n\\nDownload from APP Store\\n\\nDownload from Windows Phone\\n\\nTools\\n\\nRetirement Planning\\n\\nEMI Calculator\\n\\nSIP Calculator\\n\\nSIP Planner\\n\\nUseful Links\\n\\nCrypto News',\n",
       " 'Tools\\n\\nRetirement Planning\\n\\nEMI Calculator\\n\\nSIP Calculator\\n\\nSIP Planner\\n\\nUseful Links\\n\\nCrypto News\\n\\nBank Holidays in India\\n\\nGold Rate Today\\n\\nSilver Rate Today\\n\\nTrending News\\n\\nStartups\\n\\nNational News\\n\\nMC Videos\\n\\nMC You Tube\\n\\nHouse Purchase Index\\n\\nBest Portfolio Manager\\n\\nSmall Savings Schemes\\n\\nBonds\\n\\nTopperLearning\\n\\nClear Study Doubts\\n\\nEducation Franchisee Opportunity\\n\\nSpecials\\n\\nMaster Your Money\\n\\nGame Changers\\n\\nInvestment Watch\\n\\nPowerYourTrade\\n\\nMoneyBhai\\n\\nFocus\\n\\nSME Step Up\\n\\nNetwork 18 Sites\\n\\nNews18\\n\\nFirstpost\\n\\nCNBC TV18\\n\\nNews18 Hindi\\n\\nCricketnext\\n\\nOverdrive\\n\\nTopper Learning\\n\\nAbout us |',\n",
       " 'News18\\n\\nFirstpost\\n\\nCNBC TV18\\n\\nNews18 Hindi\\n\\nCricketnext\\n\\nOverdrive\\n\\nTopper Learning\\n\\nAbout us |\\n\\nContact Us |\\n\\nAdvertise with Us |\\n\\nSupport |\\n\\nDisclaimer |\\n\\nPrivacy Policy |\\n\\nCookie Policy |\\n\\nTerms & Conditions |\\n\\nCareers |\\n\\nFinancial Terms (Glossary) |\\n\\nFAQs |\\n\\nSitemap |\\n\\nRSS Feed\\n\\nCopyright © e-Eighteen.com Ltd. All rights reserved. Reproduction of news articles, photos, videos or any other content in whole or in part in any form \\r\\n        or medium without express writtern permission of moneycontrol.com is prohibited.\\n\\nYou got 30 Day’s Trial of\\n\\nGrab it Now\\n\\nAd-Free Experience',\n",
       " \"You got 30 Day’s Trial of\\n\\nGrab it Now\\n\\nAd-Free Experience\\n\\nTop Articles from Financial Times\\n\\nActionable Insights\\n\\nMC Research\\n\\nEconomic Calendar\\n\\n& Many More\\n\\nYou are already a Moneycontrol Pro user.\\n\\nCheck your Credit Score Now!\\n\\nAccess your Detailed Credit Report - absolutely free\\n\\nClick Here\\n\\nNo thanks, I'll Pass!\\n\\nClaim ₹100 Reward Now!\\n\\nClaim ₹100 Reward Now!\\n\\nNo thanks, I'll Pass!\\n\\n101Reporters\",\n",
       " 'English\\n\\nHindi\\n\\nGujarati\\n\\nSpecials\\n\\nMoneycontrol Trending Stock\\n\\nInfosys\\xa0INE009A01021, INFY, 500209\\n\\nState Bank of India\\xa0INE062A01020, SBIN, 500112\\n\\nYes Bank\\xa0INE528G01027, YESBANK, 532648\\n\\nBank Nifty\\n\\nNifty 500\\n\\nQuotes\\n\\nMutual Funds\\n\\nCommodities\\n\\nFutures & Options\\n\\nCurrency\\n\\nNews\\n\\nCryptocurrency\\n\\nForum\\n\\nNotices\\n\\nVideos\\n\\nGlossary\\n\\nAll',\n",
       " 'Futures & Options\\n\\nCurrency\\n\\nNews\\n\\nCryptocurrency\\n\\nForum\\n\\nNotices\\n\\nVideos\\n\\nGlossary\\n\\nAll\\n\\nHello, LoginHello, LoginLog-inor Sign-UpMy AccountMy Profile My PortfolioMy WatchlistMy Credit Score₹100 CashbackMy FeedMy MessagesMy AlertsMy Profile My PROMy PortfolioMy WatchlistMy Credit Score₹100 CashbackMy FeedMy MessagesMy AlertsLogoutChat with UsDownload AppFollow us on:\\n\\nPremium\\n\\nMy Feed',\n",
       " '\\nMarketsHOMEINDIAN INDICESSTOCK ACTIONAll StatsTop GainersTop LosersOnly BuyersOnly Sellers52 Week High52 Week LowPrice ShockersVolume ShockersMost Active StocksGLOBAL MARKETSUS MARKETSBIG SHARK PORTFOLIOSSTOCK SCANNERECONOMIC CALENDARMARKET ACTIONDashboardF&OFII & DII ActivityCorporate ActionEARNINGSCOMMODITYPRE MARKETRESEARCHAdviceBroker ResearchTechnicalsCURRENCYBONDSWEBINARINTERVIEW SERIESIPOOTHERSCryptocurrencyToolsNewsHOMEPAGEBUSINESSHomeEconomyCompaniesMutual FundsPersonal FinanceIPOStartupsReal EstateSMEGEOGRAPHYIndiaWorldMARKETSHomeStocksTechnical AnalysisEquity ResearchCommodityCurrencyGold RateSilver RateSPECIALTrendsLatest NewsOpinionTECHNOLOGYPersonal TechAutoFintechMEDIAPodcastPhotosInfographicsVideosOTHERSMC LearnPoliticsCricketEntertainmentTravelLifestyleHealth and FitnessEducationScienceBooksMC BuzzMC FeaturesTech/StartupsPortfolioWatchlistCommoditiesMutual FundsEXPLOREHomeFind FundTop Ranked FundsPerformance TrackerSIP Performance TrackerETF PerformanceNFOTop Performing CategoriesLearnTOOLSReturns CalculatorLumpsum SIP BalancerDelay Cost CalculatorSIP ReturnMF FORUMTRACKYour MF InvestmentMF PricesMC 30Personal FinanceEXPLOREHomeInvestingInsuranceBankingFinancial PlanningPropertyToolsVideoAsk ExpertExplainerIncome Tax Filing GuideNPSFIXED DEPOSITFixed Deposit Interest CalculatorCorporate DepositsTAXIncome tax Filing GuideIncome Tax CalculatorEmergency Fund CalculatorLOANS & CREDIT CARDSHomeCar Loan CalculatorHome Loan CalculatorEducation Loan CalculatorCredit Card Debit Payoff CalculatorTOOLSProvident Fund CalculatorAssets Allocation PlanningDebt Reduction PlannerDebt Evaluation CalculatorCurrent Expense CalculatorCredit Score₹100 CashbackREAL ESTATE : TRENDS & ANALYTICSMC 30MONEYCONTROL - SECURENOW HEALTH INSURANCE RATINGSGOLD PRICE TODAYUpcoming Chat | Previous TranscriptsAll Schedule | Previous TranscriptForumEXPLORE FORUMHomepageMembership RulesForum TopicsAsk the ExpertTop BoardersUSER PROFILEFORUM TOPICSLatest ThreadsStocksIndexGoldPersonal FinanceJust PostedMF FORUMPOLLSLatest PollsHistorical PollsMarket SentimentsSUPPORTFAQsCode of ConductFeedbackWrite to usVideosVIDEOSHomepageVideos on DemandMarkets with Santo & CJMorning TradeCommodities chat with Manisha GuptaLet`s Talk JobsThe TenantDrive ReportBajar GupshupBits To BillionsPODCASTHomepagePodcast on DemandThe Week on Dalal StreetMarket MinutesMC Special PodcastSimply SavePolicy TalksLIVE TVHindiGujaratiInvest Now.investNW .sepInvsli a.pdg_btm{ padding-bottom: 46px; }',\n",
       " '.header_desktop.header1024 .investNW .sepInvsli a.pdg_btm{padding-bottom: 0px;}\\n\\t\\t@media screen and (max-width:1279px) { \\n\\t\\t\\t.investNW .sepInvsli a.pdg_btm{ padding-bottom: 0px; }',\n",
       " \"\\n\\t\\t}Invest in bonds onlinePowered By Invest in high-rated bonds from as low as Rs. 10,000Find & Invest in bonds issued by top corporates, PSU Banks, NBFCs, and much more. Invest as low as 10,000 and earn better returns than FDInvest NowExpert Trading GuidancePowered By Trading Advisories, Courses & Webinars by Top Verified Experts.Unlock Your Trading Potential: Trade like Experts with SEBI registered creators, Learn from Courses & Webinars by India's Finest Finance Experts.Invest NowSubscriptionAMBAREESH BALIGAFundamental, Stock Ideas, Multibaggers & InsightsSubscribeCK NARAYANStock & Index F&O Trading Calls & Market AnalysisSubscribeSUDARSHAN SUKHANITechnical Call, Trading Calls & InsightsSubscribeT GNANASEKARCommodity Trading Calls & Market AnalysisSubscribeMECKLAI FINANCIALSCurrency Derivatives Trading Calls & InsightsSubscribeSHUBHAM AGARWALOptions Trading Advice and Market AnalysisSubscribeMARKET SMITH INDIAModel portfolios, Investment Ideas, Guru Screens and Much MoreSubscribeTraderSmithProprietary system driven Rule Based Trading callsSubscribeCurated markets data, exclusive trading recommendations, Independent equity analysis & actionable investment ideasSubscribeCurated markets data, exclusive trading recommendations, Independent equity analysis & actionable investment ideasExploreSTOCK REPORTS BY THOMSON REUTERSDetails stock report and investment recommendationSubscribePOWER YOUR TRADETechnical and Commodity CallsSubscribeINVESTMENT WATCHSet price, volume and news alertsSubscribeGo Ad-Free BusinessMarketsStocksEconomyCompaniesTrendsIPOOpinionEV Special\",\n",
       " '>->MC_ENG_DESKTOP/MC_ENG_LIVEBLOG/MC_ENG_LIVEBLOG_AS/MC_ENG_ROS_LIVBLG_AS_ATF_728\\n\\nGo PRO @₹99\\n\\nPRO\\n\\nAdvertisement\\n\\nRemove Ad\\n\\n\\n\\nMarketsHOMEINDIAN INDICESSTOCK ACTIONAll StatsTop GainersTop LosersOnly BuyersOnly Sellers52 Week High52 Week LowPrice ShockersVolume ShockersMost Active StocksGLOBAL MARKETSUS MARKETSBIG SHARK PORTFOLIOSSTOCK SCANNERECONOMIC CALENDARMARKET ACTIONDashboardF&OFII & DII ActivityCorporate ActionEARNINGSCOMMODITYPRE MARKETRESEARCHAdviceBroker ResearchTechnicalsCURRENCYBONDSWEBINARINTERVIEW SERIESIPOOTHERSCryptocurrencyTools',\n",
       " 'NewsHOMEPAGEBUSINESSHomeEconomyCompaniesMutual FundsPersonal FinanceIPOStartupsReal EstateSMEGEOGRAPHYIndiaWorldMARKETSHomeStocksTechnical AnalysisEquity ResearchCommodityCurrencyGold RateSilver RateSPECIALTrendsLatest NewsOpinionTECHNOLOGYPersonal TechAutoFintechMEDIAPodcastPhotosInfographicsVideosOTHERSMC LearnPoliticsCricketEntertainmentTravelLifestyleHealth and FitnessEducationScienceBooksMC BuzzMC Features\\n\\nTech/Startups\\n\\nPortfolio\\n\\nWatchlist\\n\\nCommodities',\n",
       " 'Tech/Startups\\n\\nPortfolio\\n\\nWatchlist\\n\\nCommodities\\n\\nMutual FundsEXPLOREHomeFind FundTop Ranked FundsPerformance TrackerSIP Performance TrackerETF PerformanceNFOTop Performing CategoriesLearnTOOLSReturns CalculatorLumpsum SIP BalancerDelay Cost CalculatorSIP ReturnMF FORUMTRACKYour MF InvestmentMF PricesMC 30',\n",
       " '\\nPersonal FinanceEXPLOREHomeInvestingInsuranceBankingFinancial PlanningPropertyToolsVideoAsk ExpertExplainerIncome Tax Filing GuideNPSFIXED DEPOSITFixed Deposit Interest CalculatorCorporate DepositsTAXIncome tax Filing GuideIncome Tax CalculatorEmergency Fund CalculatorLOANS & CREDIT CARDSHomeCar Loan CalculatorHome Loan CalculatorEducation Loan CalculatorCredit Card Debit Payoff CalculatorTOOLSProvident Fund CalculatorAssets Allocation PlanningDebt Reduction PlannerDebt Evaluation CalculatorCurrent Expense CalculatorCredit Score₹100 CashbackREAL ESTATE : TRENDS & ANALYTICSMC 30MONEYCONTROL - SECURENOW HEALTH INSURANCE RATINGSGOLD PRICE TODAYUpcoming Chat | Previous TranscriptsAll Schedule | Previous Transcript',\n",
       " 'ForumEXPLORE FORUMHomepageMembership RulesForum TopicsAsk the ExpertTop BoardersUSER PROFILEFORUM TOPICSLatest ThreadsStocksIndexGoldPersonal FinanceJust PostedMF FORUMPOLLSLatest PollsHistorical PollsMarket SentimentsSUPPORTFAQsCode of ConductFeedbackWrite to us\\n\\nVideosVIDEOSHomepageVideos on DemandMarkets with Santo & CJMorning TradeCommodities chat with Manisha GuptaLet`s Talk JobsThe TenantDrive ReportBajar GupshupBits To BillionsPODCASTHomepagePodcast on DemandThe Week on Dalal StreetMarket MinutesMC Special PodcastSimply SavePolicy TalksLIVE TVHindiGujarati',\n",
       " 'Invest Now.investNW .sepInvsli a.pdg_btm{ padding-bottom: 46px; }\\n\\t\\t.header_desktop.header1024 .investNW .sepInvsli a.pdg_btm{padding-bottom: 0px;}\\n\\t\\t@media screen and (max-width:1279px) { \\n\\t\\t\\t.investNW .sepInvsli a.pdg_btm{ padding-bottom: 0px; }',\n",
       " \".investNW .sepInvsli a.pdg_btm{ padding-bottom: 0px; } \\n\\t\\t}Invest in bonds onlinePowered By Invest in high-rated bonds from as low as Rs. 10,000Find & Invest in bonds issued by top corporates, PSU Banks, NBFCs, and much more. Invest as low as 10,000 and earn better returns than FDInvest NowExpert Trading GuidancePowered By Trading Advisories, Courses & Webinars by Top Verified Experts.Unlock Your Trading Potential: Trade like Experts with SEBI registered creators, Learn from Courses & Webinars by India's Finest Finance Experts.Invest Now\",\n",
       " '\\nSubscriptionAMBAREESH BALIGAFundamental, Stock Ideas, Multibaggers & InsightsSubscribeCK NARAYANStock & Index F&O Trading Calls & Market AnalysisSubscribeSUDARSHAN SUKHANITechnical Call, Trading Calls & InsightsSubscribeT GNANASEKARCommodity Trading Calls & Market AnalysisSubscribeMECKLAI FINANCIALSCurrency Derivatives Trading Calls & InsightsSubscribeSHUBHAM AGARWALOptions Trading Advice and Market AnalysisSubscribeMARKET SMITH INDIAModel portfolios, Investment Ideas, Guru Screens and Much MoreSubscribeTraderSmithProprietary system driven Rule Based Trading callsSubscribeCurated markets data, exclusive trading recommendations, Independent equity analysis & actionable investment ideasSubscribeCurated markets data, exclusive trading recommendations, Independent equity analysis & actionable investment ideasExploreSTOCK REPORTS BY THOMSON REUTERSDetails stock report and investment recommendationSubscribePOWER YOUR TRADETechnical and Commodity CallsSubscribeINVESTMENT WATCHSet price, volume and news alertsSubscribe',\n",
       " 'Go Ad-Free\\n\\nBusiness\\n\\nMarkets\\n\\nStocks\\n\\nEconomy\\n\\nCompanies\\n\\nTrends\\n\\nIPO\\n\\nOpinion\\n\\nEV Special\\n\\nCheck your Credit Score for Free and Get Guaranteed  ₹100 Cash Reward!Check your Credit Score for Free and Get Guaranteed  ₹ 100 Cash Reward!\\n\\nHome\\n\\nNews\\n\\nIndia\\n\\nLive now\\n          \\n\\nauto refresh \\n          \\n\\nCyclone Michaung Highlights: Rajnath Singh will conduct aerial survey of flood-hit areas of Tamil Nadu\\n\\nCyclone Michaung Highlights: Defence Minister Rajnath Singh will visit Tamil Nadu on Thursday to assess damage caused by floods and meet CM M K Stalin on Thursday, PTI reported.',\n",
       " 'December 06, 2023 / 11:01 pm IST\\n\\nDefence Minister Rajnath Singh will conduct an aerial visit of flood-affected areas of Tamil Nadu on 7th December 2023 which were hit by the devastating cyclone ‘Michuang’. He will be accompanied by Thangam Thennarasu, Finance Minister of Tamil Nadu and Chief Secretary of Tamil Nadu during this visit.',\n",
       " 'Cyclone Michaung LIVE Updates: Individuals accompanied by a dog are seen sitting on an improvised raft while being relocated from a submerged area in Chennai due to heavy rains following the landfall of Cyclone Michaung. The streets of the city were inundated with chest-high water on December 5, resulting in eight casualties amid severe flooding caused by the cyclone hitting the southeast coast. (Image: AFP)                                            \\n               Moneycontrol.com\\n\\nDecember 06, 2023 / 11:00 PM IST',\n",
       " 'Moneycontrol.com\\n\\nDecember 06, 2023 / 11:00 PM IST\\n                                                                                                                                                                                                                      \\n                                                            The live blog session has concluded. For more news, views and updates, stay tuned withMoneycontrol.com.\\n\\nDecember 06, 2023 / 10:54 PM IST',\n",
       " 'December 06, 2023 / 10:54 PM IST\\n                                                                                                                                Cyclone\\xa0Michaung\\xa0LIVE Updates:\\xa0Soldiers continue to provide basic amenities water, food into the deepest corners day or night',\n",
       " 'As the rain stops multiple families stranded in flood water, especiallyelderlies, pregnant ladies, infants and their parents, soldiers continue to provide basic amenities water, food into the deepest corners day or night: Southern Command, Indian Army\\n\\nAdvertisementRemove AdAdvertisementRemove Ad                      AdvertisementRemove Ad\\n\\nDecember 06, 2023 / 10:24 PM IST',\n",
       " 'December 06, 2023 / 10:24 PM IST\\n                                                                                                                                Cyclone Michaung LIVE Updates:\\xa0ICG\\xa0undertook proactive actions to ensure\\xa0timely pre-emptive measures',\n",
       " \"The Indian Coast Guard (ICG) undertook proactive actions to ensure timely pre-emptive measures in response to the disaster and ensured no loss of life at sea. The Coast Guard Radar stations along the coast continuously broadcasted advisories to all mariners through VHF radio: ICG\\n\\nDecember 06, 2023 / 10:20 PM IST\\n                                                                                                                                Women's T20 Updates:\\xa0England beat India by 38 runs\",\n",
       " \"England beat India by 38 runs in first women's T20I in Mumbai\\n\\nDecember 06, 2023 / 09:33 PM IST\\n                                                                                                                                Indian Army LIVE Updates: Indian Army is coming out with a comprehensive promotion policy\",\n",
       " '\\n                                                            The Indian Army is coming out with a comprehensive promotion policy which will be implemented from January 1, 2024. The new promotion policy has been prepared in-sync with the ever-evolving operational requirements of the force. As part of this, a comprehensive review of the promotion policy for selection of officers to select ranks of Colonels and above has been finalized. The new policy helps in aligning the leadership requirements to the present and emerging operational challenges, both in internal and external dimensions: Indian Army officials',\n",
       " 'AdvertisementRemove AdAdvertisementRemove Ad                      AdvertisementRemove Ad\\n\\nDecember 06, 2023 / 09:19 PM IST\\n                                                                                                                                \\xa0Indo-US\\xa0joint Exercise Updates:\\xa0\\xa0IAF along with IA conducted various exercises with US troops in a Mi-17 Helicopter',\n",
       " \"As part of the Indo-US joint Exercise Vajraprahar 2023, IAF along with IA conducted various exercises with US troops in a Mi-17 Helicopter at Umiam Lake, Shillong. Helocasting operations were also carried out, displaying high standards of precision, synergy & professionalism.\\n\\nDecember 06, 2023 / 09:02 PM IST\\n                                                                                                                                Women's T20 LIVE:\\xa0England post 197 for 6 against India\",\n",
       " \"England post 197 for 6 against India in first women's T20I in Mumbai.\\n\\nDecember 06, 2023 / 09:01 PM IST\\n                                                                                                                                LIVE News Updates: Amid tight fiscal, Revanth Reddy, as CM of Telangana, tasked with delivering 'six' guarantees\",\n",
       " 'Telangana PCC President A Revanth Reddy who is set to take over the reins of the state from Thursday will have a daunting task of making the bleak coffers ring to be able to fulfill the “six guarantees” that the Congress party gave during the run up to the recently concluded assembly polls.    Besides, he also has many political challenges to confront. (PTI)\\n\\nDecember 06, 2023 / 08:26 PM IST',\n",
       " 'December 06, 2023 / 08:26 PM IST\\n                                                                                                                                Cyclone Michaung LIVE Updates:\\xa0Defence\\xa0Minister Rajnath Singh will arrive in Chennai tomorrow to assess the flood situation',\n",
       " 'Defence Minister Rajnath Singh will arrive in Chennai tomorrow to assess the flood situation caused due to the Michaung cyclone, tweets Tamil Nadu BJP president K Annamalai\\n\\nDecember 06, 2023 / 07:55 PM IST\\n                                                                                                                                Cyclone Michaung LIVE Updates: Waterlogging continues in Chennai after excessive rainfall',\n",
       " '#WATCH | Tamil Nadu: Severe waterlogging continues in several parts of Chennai.(Visuals from Koyambedu to Korattur area) pic.twitter.com/4xzWZ9tRM3— ANI (@ANI) December 6, 2023\\n\\nAdvertisementRemove AdAdvertisementRemove Ad                      AdvertisementRemove Ad\\n\\nDecember 06, 2023 / 07:29 PM IST',\n",
       " 'December 06, 2023 / 07:29 PM IST\\n                                                                                                                                MEA News LIVE:\\xa0India announces 1 million US dollars immediate relief assistance to Papua New Guinea',\n",
       " 'India announces 1 million US dollars immediate relief assistance to Papua New Guinea in the wake of volcanic eruption: MEA\\n\\nDecember 06, 2023 / 07:28 PM IST\\n                                                                                                                                Cyclone Michaung LIVE Updates: Rajnath Singh will conduct aerial survey of flood-hit areas of Tamil Nadu',\n",
       " 'Defence Minister Rajnath Singh will visit Tamil Nadu on Thursday to assess damage caused by floods and meet CM M K Stalin on Thursday, PTI reported.\\n\\nAdvertisement\\n\\nRemove Ad\\n\\nMost Read\\n\\nTop News\\n\\nVande Bharat passenger puts feet on snack tray, Railways officer responds\\n\\nNew Covid sub-variant on radar; flurry of surprise inspection of hospitals',\n",
       " \"New Covid sub-variant on radar; flurry of surprise inspection of hospitals\\n\\nHow Bengaluru mall, charging Rs 200 for pedestrian entry, caused traffic snarls on Christmas eve\\n\\n'Go back to Pakistan': Indian-origin man told by squatters who took over his New York home\\n\\nBuy, sell, hold: What should you do with Credo, RBZ Jewellers and Happy Forgings?\\n\\nWhat's pulling Nifty 50 to fresh record highs, Sensex over 350 points higher?\\n\\nIPO-bound FirstCry’s revenue jumps 135% to Rs 5,633 crore in FY23, losses spike 6X\\n\\nResilient services buoy current account in September quarter\\n\\nView More News\",\n",
       " 'Resilient services buoy current account in September quarter\\n\\nView More News\\n\\nVideo of the day\\n\\nBanks Or IT: Which Stocks Should You Buy Now? | Sectors To Watch | IT Stocks | Stock Market\\n\\nAdvertisement\\n\\nRemove Ad\\n\\nForum\\n\\nFacebook\\n\\nTwitter\\n\\nInstagram\\n\\nLinkedin\\n\\nRSS\\n\\nPortfolio\\n\\nMarkets\\n\\nWatchlist\\n\\nLive TV Show\\n\\nCurrencies\\n\\nCredit Score₹100 Cashback\\n\\nCommodities\\n\\nFixed Income\\n\\nPersonal Finance\\n\\nMutual Fund\\n\\nPre-Market\\n\\nIPO\\n\\nGlobal Market\\n\\nBudget 2024\\n\\nGold Rate\\n\\nBSE Sensex\\n\\nForum\\n\\nMC 30\\n\\nNews\\n\\nBusiness\\n\\nMarkets\\n\\nStocks\\n\\nEconomy\\n\\nMutual Funds\\n\\nPersonal Finance\\n\\nIPO News\\n\\nStartups\\n\\nElection 2023',\n",
       " 'Markets\\n\\nStocks\\n\\nEconomy\\n\\nMutual Funds\\n\\nPersonal Finance\\n\\nIPO News\\n\\nStartups\\n\\nElection 2023\\n\\nElections 2023 in Hindi\\n\\nStocks:\\n\\nA |\\n\\nB |\\n\\nC |\\n\\nD |\\n\\nE |\\n\\nF |\\n\\nG |\\n\\nH |\\n\\nI |\\n\\nJ |\\n\\nK |\\n\\nL |\\n\\nM |\\n\\nN |\\n\\nO |\\n\\nP |\\n\\nQ |\\n\\nR |\\n\\nS |\\n\\nT |\\n\\nU |\\n\\nV |\\n\\nW |\\n\\nX |\\n\\nY |\\n\\nZ |\\n\\nOthers\\n\\nMutual Funds:\\n\\nA \\r\\n             |\\n\\nB \\r\\n             |\\n\\nC \\r\\n             |\\n\\nD \\r\\n             |\\n\\nE \\r\\n             |\\n\\nF \\r\\n             |\\n\\nG \\r\\n             |\\n\\nH \\r\\n             |\\n\\nI \\r\\n             |\\n\\nJ \\r\\n             |\\n\\nK \\r\\n             |\\n\\nL \\r\\n             |\\n\\nM \\r\\n             |\\n\\nN \\r\\n             |\\n\\nO \\r\\n             |\\n\\nP \\r\\n             |',\n",
       " 'L \\r\\n             |\\n\\nM \\r\\n             |\\n\\nN \\r\\n             |\\n\\nO \\r\\n             |\\n\\nP \\r\\n             |\\n\\nQ \\r\\n             |\\n\\nR \\r\\n             |\\n\\nS \\r\\n             |\\n\\nT \\r\\n             |\\n\\nU \\r\\n             |\\n\\nV \\r\\n             |\\n\\nW \\r\\n             |\\n\\nX \\r\\n             |\\n\\nY \\r\\n             |\\n\\nVisit the App Store to see all our apps:\\n\\nDownload from Google Play\\n\\nDownload from APP Store\\n\\nDownload from Windows Phone\\n\\nTools\\n\\nRetirement Planning\\n\\nEMI Calculator\\n\\nSIP Calculator\\n\\nSIP Planner\\n\\nUseful Links\\n\\nCrypto News\\n\\nBank Holidays in India\\n\\nGold Rate Today\\n\\nSilver Rate Today\\n\\nTrending News\\n\\nStartups',\n",
       " 'Crypto News\\n\\nBank Holidays in India\\n\\nGold Rate Today\\n\\nSilver Rate Today\\n\\nTrending News\\n\\nStartups\\n\\nNational News\\n\\nMC Videos\\n\\nMC You Tube\\n\\nHouse Purchase Index\\n\\nBest Portfolio Manager\\n\\nSmall Savings Schemes\\n\\nBonds\\n\\nTopperLearning\\n\\nClear Study Doubts\\n\\nEducation Franchisee Opportunity\\n\\nSpecials\\n\\nMaster Your Money\\n\\nGame Changers\\n\\nInvestment Watch\\n\\nPowerYourTrade\\n\\nMoneyBhai\\n\\nFocus\\n\\nSME Step Up\\n\\nNetwork 18 Sites\\n\\nNews18\\n\\nFirstpost\\n\\nCNBC TV18\\n\\nNews18 Hindi\\n\\nCricketnext\\n\\nOverdrive\\n\\nTopper Learning\\n\\nAbout us |\\n\\nContact Us |\\n\\nAdvertise with Us |\\n\\nSupport |\\n\\nDisclaimer |\\n\\nPrivacy Policy |',\n",
       " 'About us |\\n\\nContact Us |\\n\\nAdvertise with Us |\\n\\nSupport |\\n\\nDisclaimer |\\n\\nPrivacy Policy |\\n\\nCookie Policy |\\n\\nTerms & Conditions |\\n\\nCareers |\\n\\nFinancial Terms (Glossary) |\\n\\nFAQs |\\n\\nSitemap |\\n\\nRSS Feed\\n\\nCopyright © e-Eighteen.com Ltd. All rights reserved. Reproduction of news articles, photos, videos or any other content in whole or in part in any form \\r\\n        or medium without express writtern permission of moneycontrol.com is prohibited.\\n\\nYou got 30 Day’s Trial of\\n\\nGrab it Now\\n\\nAd-Free Experience\\n\\nTop Articles from Financial Times\\n\\nActionable Insights\\n\\nMC Research\\n\\nEconomic Calendar',\n",
       " \"Top Articles from Financial Times\\n\\nActionable Insights\\n\\nMC Research\\n\\nEconomic Calendar\\n\\n& Many More\\n\\nYou are already a Moneycontrol Pro user.\\n\\nCheck your Credit Score Now!\\n\\nAccess your Detailed Credit Report - absolutely free\\n\\nClick Here\\n\\nNo thanks, I'll Pass!\\n\\nClaim ₹100 Reward Now!\\n\\nClaim ₹100 Reward Now!\\n\\nNo thanks, I'll Pass!\\n\\nDeblina Halder\"]"
      ]
     },
     "execution_count": 42,
     "metadata": {},
     "output_type": "execute_result"
    }
   ],
   "source": [
    "docc"
   ]
  },
  {
   "cell_type": "markdown",
   "metadata": {},
   "source": [
    "## Preprocessing"
   ]
  },
  {
   "cell_type": "code",
   "execution_count": 43,
   "metadata": {},
   "outputs": [],
   "source": [
    "text_genism=\"\".join(docc)"
   ]
  },
  {
   "cell_type": "code",
   "execution_count": 44,
   "metadata": {},
   "outputs": [
    {
     "data": {
      "text/plain": [
       "[(0,\n",
       "  '0.014*\"trade\" + 0.014*\"new\" + 0.011*\"market\" + 0.008*\"invest\" + 0.007*\"stock\" + 0.005*\"credit\" + 0.005*\"oil\" + 0.005*\"pad\" + 0.005*\"live\" + 0.005*\"free\"'),\n",
       " (1,\n",
       "  '0.012*\"trade\" + 0.012*\"invest\" + 0.012*\"new\" + 0.011*\"market\" + 0.006*\"decemb\" + 0.006*\"credit\" + 0.005*\"stock\" + 0.005*\"fund\" + 0.005*\"india\" + 0.005*\"oil\"'),\n",
       " (2,\n",
       "  '0.015*\"trade\" + 0.013*\"new\" + 0.010*\"invest\" + 0.009*\"market\" + 0.005*\"stock\" + 0.005*\"pdg\" + 0.005*\"fund\" + 0.005*\"high\" + 0.004*\"call\" + 0.004*\"sepinvsli\"'),\n",
       " (3,\n",
       "  '0.013*\"trade\" + 0.012*\"new\" + 0.010*\"invest\" + 0.009*\"market\" + 0.006*\"price\" + 0.005*\"stock\" + 0.005*\"credit\" + 0.005*\"investnw\" + 0.005*\"bank\" + 0.004*\"ist\"'),\n",
       " (4,\n",
       "  '0.011*\"market\" + 0.010*\"invest\" + 0.008*\"trade\" + 0.008*\"new\" + 0.006*\"stock\" + 0.005*\"oil\" + 0.005*\"call\" + 0.005*\"sepinvsli\" + 0.005*\"week\" + 0.004*\"credit\"')]"
      ]
     },
     "execution_count": 44,
     "metadata": {},
     "output_type": "execute_result"
    }
   ],
   "source": [
    "from gensim import corpora\n",
    "from gensim.models import LdaModel\n",
    "from gensim.parsing.preprocessing import preprocess_string\n",
    "text = text_genism\n",
    "processed_text = preprocess_string(text)\n",
    "dictionary = corpora.Dictionary([processed_text])\n",
    "corpus = [dictionary.doc2bow(processed_text)]\n",
    "lda_model = LdaModel(corpus, num_topics=5, id2word=dictionary)\n",
    "topics = lda_model.print_topics()\n",
    "topics\n",
    "\n"
   ]
  },
  {
   "cell_type": "code",
   "execution_count": 45,
   "metadata": {},
   "outputs": [],
   "source": [
    "topic_only=[]\n",
    "for i in topics:  \n",
    "    for j in i[1].split(\"+\"):\n",
    "        topic_only.append((j.split(\"*\")[1][1:-2]).strip())"
   ]
  },
  {
   "cell_type": "code",
   "execution_count": 46,
   "metadata": {},
   "outputs": [
    {
     "data": {
      "text/plain": [
       "['trade',\n",
       " 'new',\n",
       " 'market',\n",
       " 'invest',\n",
       " 'stock',\n",
       " 'credit',\n",
       " 'oil',\n",
       " 'pad',\n",
       " 'live',\n",
       " 'fre',\n",
       " 'trade',\n",
       " 'invest',\n",
       " 'new',\n",
       " 'market',\n",
       " 'decemb',\n",
       " 'credit',\n",
       " 'stock',\n",
       " 'fund',\n",
       " 'india',\n",
       " 'oi',\n",
       " 'trade',\n",
       " 'new',\n",
       " 'invest',\n",
       " 'market',\n",
       " 'stock',\n",
       " 'pdg',\n",
       " 'fund',\n",
       " 'high',\n",
       " 'call',\n",
       " 'sepinvsl',\n",
       " 'trade',\n",
       " 'new',\n",
       " 'invest',\n",
       " 'market',\n",
       " 'price',\n",
       " 'stock',\n",
       " 'credit',\n",
       " 'investnw',\n",
       " 'bank',\n",
       " 'is',\n",
       " 'market',\n",
       " 'invest',\n",
       " 'trade',\n",
       " 'new',\n",
       " 'stock',\n",
       " 'oil',\n",
       " 'call',\n",
       " 'sepinvsli',\n",
       " 'week',\n",
       " 'credi']"
      ]
     },
     "execution_count": 46,
     "metadata": {},
     "output_type": "execute_result"
    }
   ],
   "source": [
    "topic_only"
   ]
  },
  {
   "cell_type": "code",
   "execution_count": 47,
   "metadata": {},
   "outputs": [
    {
     "data": {
      "text/plain": [
       "'trade new market invest stock credit oil pad live fre trade invest new market decemb credit stock fund india oi trade new invest market stock pdg fund high call sepinvsl trade new invest market price stock credit investnw bank is market invest trade new stock oil call sepinvsli week credi'"
      ]
     },
     "execution_count": 47,
     "metadata": {},
     "output_type": "execute_result"
    }
   ],
   "source": [
    "text_spacy=\" \".join(topic_only)\n",
    "text_spacy"
   ]
  },
  {
   "cell_type": "code",
   "execution_count": 48,
   "metadata": {},
   "outputs": [],
   "source": [
    "import spacy\n",
    "from collections import Counter\n",
    "nlp = spacy.load(\"en_core_web_sm\")\n",
    "complete_text=text_spacy\n",
    "complete_doc = nlp(complete_text)\n",
    "\n",
    "words = [\n",
    "    token.text\n",
    "    for token in complete_doc\n",
    "    if not token.is_stop and not token.is_punct\n",
    "]\n",
    "\n",
    "output_topic=(Counter(words).most_common(10))"
   ]
  },
  {
   "cell_type": "code",
   "execution_count": 49,
   "metadata": {},
   "outputs": [
    {
     "data": {
      "text/plain": [
       "'trade'"
      ]
     },
     "execution_count": 49,
     "metadata": {},
     "output_type": "execute_result"
    }
   ],
   "source": [
    "top_topic=output_topic[0][0]\n",
    "top_topic"
   ]
  },
  {
   "cell_type": "markdown",
   "metadata": {},
   "source": [
    "## If data belongs to finance related or not"
   ]
  },
  {
   "cell_type": "code",
   "execution_count": 50,
   "metadata": {},
   "outputs": [
    {
     "name": "stdout",
     "output_type": "stream",
     "text": [
      "The text is likely finance-related.\n"
     ]
    }
   ],
   "source": [
    "finance_keywords = [\n",
    "    'trade', 'market', 'invest', 'stock', 'credit', 'fund', 'bank', 'asset',\n",
    "    'portfolio', 'equity', 'bond', 'insurance', 'currency', 'dividend', 'loan',\n",
    "    'financial', 'economy', 'interest', 'capital', 'wealth','brokerage', 'exchange',\n",
    "    'commodities', 'derivative', 'securities', 'liabilities','transaction', 'valuation',\n",
    "    'revenue', 'profit', 'loss', 'liquidity', 'mortgage','savings', 'retirement', 'audit',\n",
    "    'inflation', 'deflation', 'risk', 'hedge'\n",
    "]\n",
    "\n",
    "word_frequencies = output_topic\n",
    "\n",
    "finance_related_count = sum(freq for word, freq in word_frequencies if word in finance_keywords)\n",
    "\n",
    "threshold = 10\n",
    "\n",
    "is_finance_related = finance_related_count >= threshold\n",
    "\n",
    "if is_finance_related:\n",
    "    print(\"The text is likely finance-related.\")\n",
    "else:\n",
    "    print(\"The text might not be finance-related.\")\n"
   ]
  },
  {
   "cell_type": "markdown",
   "metadata": {},
   "source": [
    "## if \"YES\" forward this data to LLM else say \"NOT RELATED TO FINANCE\" Hence GuardRailing the output"
   ]
  },
  {
   "cell_type": "code",
   "execution_count": 51,
   "metadata": {},
   "outputs": [
    {
     "data": {
      "text/plain": [
       "'English\\n\\nHindi\\n\\nGujarati\\n\\nSpecials\\n\\nMoneycontrol Trending Stock\\n\\nInfosys\\xa0INE009A01021, INFY, 500209\\n\\nState Bank of India\\xa0INE062A01020, SBIN, 500112\\n\\nYes Bank\\xa0INE528G01027, YESBANK, 532648\\n\\nBank Nifty\\n\\nNifty 500\\n\\nQuotes\\n\\nMutual Funds\\n\\nCommodities\\n\\nFutures & Options\\n\\nCurrency\\n\\nNews\\n\\nCryptocurrency\\n\\nForum\\n\\nNotices\\n\\nVideos\\n\\nGlossary\\n\\nAll'"
      ]
     },
     "execution_count": 51,
     "metadata": {},
     "output_type": "execute_result"
    }
   ],
   "source": [
    "docc[0]"
   ]
  },
  {
   "cell_type": "code",
   "execution_count": 52,
   "metadata": {},
   "outputs": [
    {
     "data": {
      "text/plain": [
       "69"
      ]
     },
     "execution_count": 52,
     "metadata": {},
     "output_type": "execute_result"
    }
   ],
   "source": [
    "len(docc)"
   ]
  },
  {
   "cell_type": "code",
   "execution_count": 53,
   "metadata": {},
   "outputs": [],
   "source": [
    "embed=model.encode(docc)\n"
   ]
  },
  {
   "cell_type": "code",
   "execution_count": 54,
   "metadata": {},
   "outputs": [
    {
     "data": {
      "text/plain": [
       "(69, 384)"
      ]
     },
     "execution_count": 54,
     "metadata": {},
     "output_type": "execute_result"
    }
   ],
   "source": [
    "embed.shape"
   ]
  },
  {
   "cell_type": "code",
   "execution_count": 55,
   "metadata": {},
   "outputs": [
    {
     "data": {
      "text/plain": [
       "array([[-0.05865062, -0.05602535, -0.0471688 , ..., -0.0528    ,\n",
       "         0.01503264,  0.04057089],\n",
       "       [ 0.00906426, -0.05552488, -0.04326928, ..., -0.07795526,\n",
       "        -0.01954196,  0.004394  ],\n",
       "       [-0.00766468, -0.12255754, -0.04587163, ..., -0.10400839,\n",
       "        -0.03862083,  0.0322618 ],\n",
       "       ...,\n",
       "       [ 0.02363555, -0.03707378, -0.02414387, ..., -0.11114004,\n",
       "        -0.04511818,  0.01270786],\n",
       "       [-0.04267276, -0.02061785, -0.03832038, ..., -0.14835574,\n",
       "        -0.02671496,  0.04385377],\n",
       "       [-0.08037231, -0.05018852, -0.04718344, ..., -0.10585004,\n",
       "        -0.0567027 ,  0.02616674]], dtype=float32)"
      ]
     },
     "execution_count": 55,
     "metadata": {},
     "output_type": "execute_result"
    }
   ],
   "source": [
    "embed"
   ]
  },
  {
   "cell_type": "code",
   "execution_count": 56,
   "metadata": {},
   "outputs": [
    {
     "data": {
      "text/plain": [
       "384"
      ]
     },
     "execution_count": 56,
     "metadata": {},
     "output_type": "execute_result"
    }
   ],
   "source": [
    "dim=embed.shape[1]\n",
    "dim"
   ]
  },
  {
   "cell_type": "code",
   "execution_count": 57,
   "metadata": {},
   "outputs": [
    {
     "data": {
      "text/plain": [
       "<faiss.swigfaiss.IndexFlatL2; proxy of <Swig Object of type 'faiss::IndexFlatL2 *' at 0x00000235B5DE2EE0> >"
      ]
     },
     "execution_count": 57,
     "metadata": {},
     "output_type": "execute_result"
    }
   ],
   "source": [
    "index=faiss.IndexFlatL2(dim)\n",
    "index"
   ]
  },
  {
   "cell_type": "code",
   "execution_count": 58,
   "metadata": {},
   "outputs": [],
   "source": [
    "index.add(embed)"
   ]
  },
  {
   "cell_type": "code",
   "execution_count": 59,
   "metadata": {},
   "outputs": [
    {
     "data": {
      "text/plain": [
       "<faiss.swigfaiss.IndexFlatL2; proxy of <Swig Object of type 'faiss::IndexFlatL2 *' at 0x00000235B5DE2EE0> >"
      ]
     },
     "execution_count": 59,
     "metadata": {},
     "output_type": "execute_result"
    }
   ],
   "source": [
    "index"
   ]
  },
  {
   "cell_type": "code",
   "execution_count": 60,
   "metadata": {},
   "outputs": [],
   "source": [
    "#saving in local\n",
    "index_filename = 'index_flat_l2.index'\n",
    "faiss.write_index(index, index_filename)"
   ]
  },
  {
   "cell_type": "code",
   "execution_count": 61,
   "metadata": {},
   "outputs": [],
   "source": [
    "#reading from local\n",
    "index_filename = 'index_flat_l2.index'\n",
    "loaded_index = faiss.read_index(index_filename)"
   ]
  },
  {
   "cell_type": "code",
   "execution_count": 62,
   "metadata": {},
   "outputs": [
    {
     "data": {
      "text/plain": [
       "<faiss.swigfaiss.IndexFlat; proxy of <Swig Object of type 'faiss::IndexFlat *' at 0x00000235057EBF60> >"
      ]
     },
     "execution_count": 62,
     "metadata": {},
     "output_type": "execute_result"
    }
   ],
   "source": [
    "loaded_index"
   ]
  },
  {
   "cell_type": "code",
   "execution_count": 63,
   "metadata": {},
   "outputs": [],
   "source": [
    "search_query=\"tell about hostages of gaza and cyclone in India\"\n",
    "search_index=model.encode(search_query)\n",
    "search_index=search_index.reshape(1,-1)"
   ]
  },
  {
   "cell_type": "code",
   "execution_count": 64,
   "metadata": {},
   "outputs": [
    {
     "data": {
      "text/plain": [
       "(1, 384)"
      ]
     },
     "execution_count": 64,
     "metadata": {},
     "output_type": "execute_result"
    }
   ],
   "source": [
    "search_index.shape"
   ]
  },
  {
   "cell_type": "code",
   "execution_count": 65,
   "metadata": {},
   "outputs": [],
   "source": [
    "dist,I=loaded_index.search(search_index,k=5)"
   ]
  },
  {
   "cell_type": "code",
   "execution_count": 66,
   "metadata": {},
   "outputs": [
    {
     "data": {
      "text/plain": [
       "array([[16, 44, 60, 56, 43]], dtype=int64)"
      ]
     },
     "execution_count": 66,
     "metadata": {},
     "output_type": "execute_result"
    }
   ],
   "source": [
    "I"
   ]
  },
  {
   "cell_type": "code",
   "execution_count": 67,
   "metadata": {},
   "outputs": [
    {
     "name": "stdout",
     "output_type": "stream",
     "text": [
      "Result by semantic search of faiss : \n",
      "\n",
      "1 .\n",
      "Story continues below Advertisement\n",
      "\n",
      "Remove Ad\n",
      "\n",
      "The first group of hostages freed from captivity in Gaza returned to Israel on November 24, on the first day of a planned four-day truce during which further exchanges of hostages for Palestinian detainees are due to take place.\n",
      "\n",
      "\"The fact that they followed through was significant for reducing the risk premium,\" said John Kilduff, partner at Again Capital LLC in New York.\n",
      "\n",
      "{'source': 'https://www.moneycontrol.com/news/business/markets/oil-settles-lower-ahead-of-opec-decision-11817711.html'}\n",
      "2 .\n",
      "Cyclone Michaung LIVE Updates: Individuals accompanied by a dog are seen sitting on an improvised raft while being relocated from a submerged area in Chennai due to heavy rains following the landfall of Cyclone Michaung. The streets of the city were inundated with chest-high water on December 5, resulting in eight casualties amid severe flooding caused by the cyclone hitting the southeast coast. (Image: AFP)                                            \n",
      "               Moneycontrol.com\n",
      "\n",
      "December 06, 2023 / 11:00 PM IST\n",
      "\n",
      "{'source': 'https://www.moneycontrol.com/news/india/latest-daily-news-live-india-world-cyclone-michaung-chennai-floods-israel-hamas-war-breaking-news-and-updates-liveblog-11860771.html'}\n",
      "3 .\n",
      "India announces 1 million US dollars immediate relief assistance to Papua New Guinea in the wake of volcanic eruption: MEA\n",
      "\n",
      "December 06, 2023 / 07:28 PM IST\n",
      "                                                                                                                                Cyclone Michaung LIVE Updates: Rajnath Singh will conduct aerial survey of flood-hit areas of Tamil Nadu\n",
      "\n",
      "{'source': 'https://www.moneycontrol.com/news/india/latest-daily-news-live-india-world-cyclone-michaung-chennai-floods-israel-hamas-war-breaking-news-and-updates-liveblog-11860771.html'}\n",
      "4 .\n",
      "December 06, 2023 / 08:26 PM IST\n",
      "                                                                                                                                Cyclone Michaung LIVE Updates: Defence Minister Rajnath Singh will arrive in Chennai tomorrow to assess the flood situation\n",
      "\n",
      "{'source': 'https://www.moneycontrol.com/news/india/latest-daily-news-live-india-world-cyclone-michaung-chennai-floods-israel-hamas-war-breaking-news-and-updates-liveblog-11860771.html'}\n",
      "5 .\n",
      "December 06, 2023 / 11:01 pm IST\n",
      "\n",
      "Defence Minister Rajnath Singh will conduct an aerial visit of flood-affected areas of Tamil Nadu on 7th December 2023 which were hit by the devastating cyclone ‘Michuang’. He will be accompanied by Thangam Thennarasu, Finance Minister of Tamil Nadu and Chief Secretary of Tamil Nadu during this visit.\n",
      "\n",
      "{'source': 'https://www.moneycontrol.com/news/india/latest-daily-news-live-india-world-cyclone-michaung-chennai-floods-israel-hamas-war-breaking-news-and-updates-liveblog-11860771.html'}\n"
     ]
    }
   ],
   "source": [
    "print(\"Result by semantic search of faiss : \")\n",
    "print()\n",
    "for counter,ind in enumerate(I[0]):\n",
    "    print(counter+1,\".\")\n",
    "    print(docc[ind])\n",
    "    print()\n",
    "    print(metadata[ind])"
   ]
  },
  {
   "cell_type": "code",
   "execution_count": 68,
   "metadata": {},
   "outputs": [],
   "source": [
    "from langchain.chains import LLMChain\n",
    "from langchain.prompts import PromptTemplate"
   ]
  },
  {
   "cell_type": "code",
   "execution_count": 69,
   "metadata": {},
   "outputs": [],
   "source": [
    "prompt_template = \"\"\" Answer in very detail and try to remain close to the topic and Use the following pieces of context to answer the question at the end. If you don't know the answer, just say that you don't know, don't try to make up an answer.\n",
    "{context}\n",
    "Top Topic: {top_topic}\n",
    "Question: {question}\n",
    "Answer:\"\"\"\n",
    "\n",
    "prompt = PromptTemplate(template=prompt_template, input_variables=[\"context\",\"top_topic\",\"question\"])\n"
   ]
  },
  {
   "cell_type": "code",
   "execution_count": 70,
   "metadata": {},
   "outputs": [
    {
     "data": {
      "text/plain": [
       "('Story continues below Advertisement\\n\\nRemove Ad\\n\\nThe first group of hostages freed from captivity in Gaza returned to Israel on November 24, on the first day of a planned four-day truce during which further exchanges of hostages for Palestinian detainees are due to take place.\\n\\n\"The fact that they followed through was significant for reducing the risk premium,\" said John Kilduff, partner at Again Capital LLC in New York.Cyclone Michaung LIVE Updates: Individuals accompanied by a dog are seen sitting on an improvised raft while being relocated from a submerged area in Chennai due to heavy rains following the landfall of Cyclone Michaung. The streets of the city were inundated with chest-high water on December 5, resulting in eight casualties amid severe flooding caused by the cyclone hitting the southeast coast. (Image: AFP)                                            \\n               Moneycontrol.com\\n\\nDecember 06, 2023 / 11:00 PM ISTIndia announces 1 million US dollars immediate relief assistance to Papua New Guinea in the wake of volcanic eruption: MEA\\n\\nDecember 06, 2023 / 07:28 PM IST\\n                                                                                                                                Cyclone Michaung LIVE Updates: Rajnath Singh will conduct aerial survey of flood-hit areas of Tamil NaduDecember 06, 2023 / 08:26 PM IST\\n                                                                                                                                Cyclone Michaung LIVE Updates:\\xa0Defence\\xa0Minister Rajnath Singh will arrive in Chennai tomorrow to assess the flood situationDecember 06, 2023 / 11:01 pm IST\\n\\nDefence Minister Rajnath Singh will conduct an aerial visit of flood-affected areas of Tamil Nadu on 7th December 2023 which were hit by the devastating cyclone ‘Michuang’. He will be accompanied by Thangam Thennarasu, Finance Minister of Tamil Nadu and Chief Secretary of Tamil Nadu during this visit.',\n",
       " ['https://www.moneycontrol.com/news/business/markets/oil-settles-lower-ahead-of-opec-decision-11817711.html',\n",
       "  'https://www.moneycontrol.com/news/india/latest-daily-news-live-india-world-cyclone-michaung-chennai-floods-israel-hamas-war-breaking-news-and-updates-liveblog-11860771.html'])"
      ]
     },
     "execution_count": 70,
     "metadata": {},
     "output_type": "execute_result"
    }
   ],
   "source": [
    "result_context=\"\"\n",
    "source=[]\n",
    "\n",
    "for counter,ind in enumerate(I[0]):\n",
    "    result_context+=docc[ind]\n",
    "    if metadata[ind]['source'] not in  source:\n",
    "        source.append(metadata[ind]['source'])\n",
    "result_context,source"
   ]
  },
  {
   "cell_type": "code",
   "execution_count": 71,
   "metadata": {},
   "outputs": [],
   "source": [
    "import dotenv\n",
    "import os\n",
    "from langchain import OpenAI\n",
    "dotenv.load_dotenv()\n",
    "\n",
    "OPENAI_API_KEY=os.getenv(\"OPENAI_API_KEY\")\n",
    "\n",
    "llm=OpenAI(temperature=0.7,)"
   ]
  },
  {
   "cell_type": "code",
   "execution_count": 72,
   "metadata": {},
   "outputs": [],
   "source": [
    "query_llm=LLMChain(llm=llm,prompt=prompt)\n"
   ]
  },
  {
   "cell_type": "code",
   "execution_count": 73,
   "metadata": {},
   "outputs": [
    {
     "data": {
      "text/plain": [
       "'Story continues below Advertisement\\n\\nRemove Ad\\n\\nThe first group of hostages freed from captivity in Gaza returned to Israel on November 24, on the first day of a planned four-day truce during which further exchanges of hostages for Palestinian detainees are due to take place.\\n\\n\"The fact that they followed through was significant for reducing the risk premium,\" said John Kilduff, partner at Again Capital LLC in New York.Cyclone Michaung LIVE Updates: Individuals accompanied by a dog are seen sitting on an improvised raft while being relocated from a submerged area in Chennai due to heavy rains following the landfall of Cyclone Michaung. The streets of the city were inundated with chest-high water on December 5, resulting in eight casualties amid severe flooding caused by the cyclone hitting the southeast coast. (Image: AFP)                                            \\n               Moneycontrol.com\\n\\nDecember 06, 2023 / 11:00 PM ISTIndia announces 1 million US dollars immediate relief assistance to Papua New Guinea in the wake of volcanic eruption: MEA\\n\\nDecember 06, 2023 / 07:28 PM IST\\n                                                                                                                                Cyclone Michaung LIVE Updates: Rajnath Singh will conduct aerial survey of flood-hit areas of Tamil NaduDecember 06, 2023 / 08:26 PM IST\\n                                                                                                                                Cyclone Michaung LIVE Updates:\\xa0Defence\\xa0Minister Rajnath Singh will arrive in Chennai tomorrow to assess the flood situationDecember 06, 2023 / 11:01 pm IST\\n\\nDefence Minister Rajnath Singh will conduct an aerial visit of flood-affected areas of Tamil Nadu on 7th December 2023 which were hit by the devastating cyclone ‘Michuang’. He will be accompanied by Thangam Thennarasu, Finance Minister of Tamil Nadu and Chief Secretary of Tamil Nadu during this visit.'"
      ]
     },
     "execution_count": 73,
     "metadata": {},
     "output_type": "execute_result"
    }
   ],
   "source": [
    "result_context"
   ]
  },
  {
   "cell_type": "code",
   "execution_count": 51,
   "metadata": {},
   "outputs": [],
   "source": [
    "res=result_context[:500]+result_context[-500:]"
   ]
  },
  {
   "cell_type": "code",
   "execution_count": 74,
   "metadata": {},
   "outputs": [
    {
     "name": "stdout",
     "output_type": "stream",
     "text": [
      "Result by OpenAi LLM : \n",
      "\n",
      " On November 24, the first group of hostages freed from captivity in Gaza returned to Israel. This was part of a planned four-day truce during which further exchanges of hostages for Palestinian detainees were due to take place. This exchange of hostages for detainees was significant for reducing the risk premium.\n",
      "\n",
      "Meanwhile, in India, the Cyclone Michaung made landfall on the southeast coast on December 5, resulting in eight casualties and severe flooding. In response to this, the Indian government has announced 1 million US dollars in immediate relief assistance to the affected areas. Defence Minister Rajnath Singh will conduct an aerial survey of the flood-hit areas on December 7th, accompanied by Thangam Thennarasu, Finance Minister of Tamil Nadu and Chief Secretary of Tamil Nadu.\n",
      "\n",
      "['https://www.moneycontrol.com/news/business/markets/oil-settles-lower-ahead-of-opec-decision-11817711.html', 'https://www.moneycontrol.com/news/india/latest-daily-news-live-india-world-cyclone-michaung-chennai-floods-israel-hamas-war-breaking-news-and-updates-liveblog-11860771.html']\n"
     ]
    }
   ],
   "source": [
    "print(\"Result by OpenAi LLM : \")\n",
    "print()\n",
    "response=query_llm.run({\"context\":result_context,\"top_topic\":top_topic,\"question\":search_query})\n",
    "print(response)\n",
    "print()\n",
    "print(source)"
   ]
  },
  {
   "cell_type": "code",
   "execution_count": null,
   "metadata": {},
   "outputs": [],
   "source": []
  }
 ],
 "metadata": {
  "kernelspec": {
   "display_name": "venv",
   "language": "python",
   "name": "python3"
  },
  "language_info": {
   "codemirror_mode": {
    "name": "ipython",
    "version": 3
   },
   "file_extension": ".py",
   "mimetype": "text/x-python",
   "name": "python",
   "nbconvert_exporter": "python",
   "pygments_lexer": "ipython3",
   "version": "3.11.4"
  }
 },
 "nbformat": 4,
 "nbformat_minor": 2
}
